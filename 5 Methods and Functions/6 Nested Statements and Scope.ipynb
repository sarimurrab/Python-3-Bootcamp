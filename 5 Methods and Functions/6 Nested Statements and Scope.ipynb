{
 "cells": [
  {
   "cell_type": "markdown",
   "metadata": {},
   "source": [
    "# LEGB Rule:\n",
    "\n",
    "#### L: Local — Names assigned in any way within a function (def or lambda), and not declared global in that function.\n",
    "\n",
    "#### E: Enclosing function locals — Names in the local scope of any and all enclosing functions (def or lambda), from inner to outer.\n",
    "\n",
    "#### G: Global (module) — Names assigned at the top-level of a module file, or declared global in a def within the file.\n",
    "\n",
    "#### B: Built-in (Python) — Names preassigned in the built-in names module : open, range, SyntaxError,..."
   ]
  },
  {
   "cell_type": "code",
   "execution_count": 4,
   "metadata": {},
   "outputs": [],
   "source": [
    "#global\n",
    "x=10\n",
    "def name():\n",
    "    #enclosed\n",
    "    x= 100\n",
    "    def hello():\n",
    "        #local\n",
    "        x=500"
   ]
  },
  {
   "cell_type": "code",
   "execution_count": 5,
   "metadata": {},
   "outputs": [
    {
     "name": "stdout",
     "output_type": "stream",
     "text": [
      "10\n"
     ]
    }
   ],
   "source": [
    "print(x)"
   ]
  },
  {
   "cell_type": "code",
   "execution_count": 9,
   "metadata": {},
   "outputs": [
    {
     "name": "stdout",
     "output_type": "stream",
     "text": [
      "10\n"
     ]
    }
   ],
   "source": [
    "name()\n",
    "print(x)"
   ]
  },
  {
   "cell_type": "markdown",
   "metadata": {},
   "source": [
    "# global keyword"
   ]
  },
  {
   "cell_type": "code",
   "execution_count": 16,
   "metadata": {},
   "outputs": [],
   "source": [
    "x=10\n",
    "def name():\n",
    "    global x\n",
    "    x= 100\n",
    "    def hello():\n",
    "        x=500\n",
    "    hello()\n",
    "        \n",
    "        \n",
    "        "
   ]
  },
  {
   "cell_type": "code",
   "execution_count": 17,
   "metadata": {},
   "outputs": [
    {
     "name": "stdout",
     "output_type": "stream",
     "text": [
      "100\n"
     ]
    }
   ],
   "source": [
    "name()\n",
    "print(x)"
   ]
  },
  {
   "cell_type": "code",
   "execution_count": 18,
   "metadata": {},
   "outputs": [],
   "source": [
    "x=10\n",
    "def name():\n",
    "    global x\n",
    "    x= 100\n",
    "    def hello():\n",
    "        global x\n",
    "        x=500\n",
    "    hello()\n",
    "        "
   ]
  },
  {
   "cell_type": "code",
   "execution_count": 19,
   "metadata": {},
   "outputs": [
    {
     "name": "stdout",
     "output_type": "stream",
     "text": [
      "500\n"
     ]
    }
   ],
   "source": [
    "name()\n",
    "print(x)"
   ]
  },
  {
   "cell_type": "code",
   "execution_count": 23,
   "metadata": {},
   "outputs": [
    {
     "name": "stdout",
     "output_type": "stream",
     "text": [
      "{'__name__': '__main__', '__doc__': 'Automatically created module for IPython interactive environment', '__package__': None, '__loader__': None, '__spec__': None, '__builtin__': <module 'builtins' (built-in)>, '__builtins__': <module 'builtins' (built-in)>, '_ih': ['', '60*0.65', '60.0*0.65', '40*0.65', 'x=10\\ndef name():\\n    x= 100\\n    def hello():\\n        x=500', 'print(x)', 'nmae()', \"get_ipython().run_line_magic('pwd', '')\", 'name()', 'name()\\nprint(x)', 'x=10\\ndef name():\\n    global x\\n    x= 100\\n    def hello():\\n        x=500\\n        \\n        \\n        ', 'name()\\nprint(x)', 'x=10\\ndef name():\\n    global x\\n    x= 100\\n    def hello():\\n        x=500\\n    hello()\\n        \\n        \\n        ', 'name()\\nprint(x)', 'x=10\\ndef name():\\n    global x\\n    x= 100\\n    def hello():\\n        global x\\n        x=500\\n    hello()\\n        \\n        \\n        ', 'name()\\nprint(x)', 'x=10\\ndef name():\\n    global x\\n    x= 100\\n    def hello():\\n        x=500\\n    hello()\\n        \\n        \\n        ', 'name()\\nprint(x)', 'x=10\\ndef name():\\n    global x\\n    x= 100\\n    def hello():\\n        global x\\n        x=500\\n    hello()\\n        ', 'name()\\nprint(x)', 'print(x.locals())', 'print(locals())', 'print(globals())', 'print(globals())\\nprint(locals())'], '_oh': {1: 39.0, 2: 39.0, 3: 26.0, 7: 'C:\\\\Users\\\\SARIM\\\\Desktop\\\\Complete Python 3 Bootcamp\\\\5 Methods and Functions'}, '_dh': ['C:\\\\Users\\\\SARIM\\\\Desktop\\\\Complete Python 3 Bootcamp\\\\5 Methods and Functions'], 'In': ['', '60*0.65', '60.0*0.65', '40*0.65', 'x=10\\ndef name():\\n    x= 100\\n    def hello():\\n        x=500', 'print(x)', 'nmae()', \"get_ipython().run_line_magic('pwd', '')\", 'name()', 'name()\\nprint(x)', 'x=10\\ndef name():\\n    global x\\n    x= 100\\n    def hello():\\n        x=500\\n        \\n        \\n        ', 'name()\\nprint(x)', 'x=10\\ndef name():\\n    global x\\n    x= 100\\n    def hello():\\n        x=500\\n    hello()\\n        \\n        \\n        ', 'name()\\nprint(x)', 'x=10\\ndef name():\\n    global x\\n    x= 100\\n    def hello():\\n        global x\\n        x=500\\n    hello()\\n        \\n        \\n        ', 'name()\\nprint(x)', 'x=10\\ndef name():\\n    global x\\n    x= 100\\n    def hello():\\n        x=500\\n    hello()\\n        \\n        \\n        ', 'name()\\nprint(x)', 'x=10\\ndef name():\\n    global x\\n    x= 100\\n    def hello():\\n        global x\\n        x=500\\n    hello()\\n        ', 'name()\\nprint(x)', 'print(x.locals())', 'print(locals())', 'print(globals())', 'print(globals())\\nprint(locals())'], 'Out': {1: 39.0, 2: 39.0, 3: 26.0, 7: 'C:\\\\Users\\\\SARIM\\\\Desktop\\\\Complete Python 3 Bootcamp\\\\5 Methods and Functions'}, 'get_ipython': <bound method InteractiveShell.get_ipython of <ipykernel.zmqshell.ZMQInteractiveShell object at 0x0000000004C37F28>>, 'exit': <IPython.core.autocall.ZMQExitAutocall object at 0x0000000004C934A8>, 'quit': <IPython.core.autocall.ZMQExitAutocall object at 0x0000000004C934A8>, '_': 'C:\\\\Users\\\\SARIM\\\\Desktop\\\\Complete Python 3 Bootcamp\\\\5 Methods and Functions', '__': 26.0, '___': 39.0, '_i': 'print(globals())', '_ii': 'print(locals())', '_iii': 'print(x.locals())', '_i1': '60*0.65', '_1': 39.0, '_i2': '60.0*0.65', '_2': 39.0, '_i3': '40*0.65', '_3': 26.0, '_i4': 'x=10\\ndef name():\\n    x= 100\\n    def hello():\\n        x=500', 'x': 500, 'name': <function name at 0x0000000004D7DD90>, '_i5': 'print(x)', '_i6': 'nmae()', '_i7': 'pwd', '_7': 'C:\\\\Users\\\\SARIM\\\\Desktop\\\\Complete Python 3 Bootcamp\\\\5 Methods and Functions', '_i8': 'name()', '_i9': 'name()\\nprint(x)', '_i10': 'x=10\\ndef name():\\n    global x\\n    x= 100\\n    def hello():\\n        x=500\\n        \\n        \\n        ', '_i11': 'name()\\nprint(x)', '_i12': 'x=10\\ndef name():\\n    global x\\n    x= 100\\n    def hello():\\n        x=500\\n    hello()\\n        \\n        \\n        ', '_i13': 'name()\\nprint(x)', '_i14': 'x=10\\ndef name():\\n    global x\\n    x= 100\\n    def hello():\\n        global x\\n        x=500\\n    hello()\\n        \\n        \\n        ', '_i15': 'name()\\nprint(x)', '_i16': 'x=10\\ndef name():\\n    global x\\n    x= 100\\n    def hello():\\n        x=500\\n    hello()\\n        \\n        \\n        ', '_i17': 'name()\\nprint(x)', '_i18': 'x=10\\ndef name():\\n    global x\\n    x= 100\\n    def hello():\\n        global x\\n        x=500\\n    hello()\\n        ', '_i19': 'name()\\nprint(x)', '_i20': 'print(x.locals())', '_i21': 'print(locals())', '_i22': 'print(globals())', '_i23': 'print(globals())\\nprint(locals())'}\n",
      "{'__name__': '__main__', '__doc__': 'Automatically created module for IPython interactive environment', '__package__': None, '__loader__': None, '__spec__': None, '__builtin__': <module 'builtins' (built-in)>, '__builtins__': <module 'builtins' (built-in)>, '_ih': ['', '60*0.65', '60.0*0.65', '40*0.65', 'x=10\\ndef name():\\n    x= 100\\n    def hello():\\n        x=500', 'print(x)', 'nmae()', \"get_ipython().run_line_magic('pwd', '')\", 'name()', 'name()\\nprint(x)', 'x=10\\ndef name():\\n    global x\\n    x= 100\\n    def hello():\\n        x=500\\n        \\n        \\n        ', 'name()\\nprint(x)', 'x=10\\ndef name():\\n    global x\\n    x= 100\\n    def hello():\\n        x=500\\n    hello()\\n        \\n        \\n        ', 'name()\\nprint(x)', 'x=10\\ndef name():\\n    global x\\n    x= 100\\n    def hello():\\n        global x\\n        x=500\\n    hello()\\n        \\n        \\n        ', 'name()\\nprint(x)', 'x=10\\ndef name():\\n    global x\\n    x= 100\\n    def hello():\\n        x=500\\n    hello()\\n        \\n        \\n        ', 'name()\\nprint(x)', 'x=10\\ndef name():\\n    global x\\n    x= 100\\n    def hello():\\n        global x\\n        x=500\\n    hello()\\n        ', 'name()\\nprint(x)', 'print(x.locals())', 'print(locals())', 'print(globals())', 'print(globals())\\nprint(locals())'], '_oh': {1: 39.0, 2: 39.0, 3: 26.0, 7: 'C:\\\\Users\\\\SARIM\\\\Desktop\\\\Complete Python 3 Bootcamp\\\\5 Methods and Functions'}, '_dh': ['C:\\\\Users\\\\SARIM\\\\Desktop\\\\Complete Python 3 Bootcamp\\\\5 Methods and Functions'], 'In': ['', '60*0.65', '60.0*0.65', '40*0.65', 'x=10\\ndef name():\\n    x= 100\\n    def hello():\\n        x=500', 'print(x)', 'nmae()', \"get_ipython().run_line_magic('pwd', '')\", 'name()', 'name()\\nprint(x)', 'x=10\\ndef name():\\n    global x\\n    x= 100\\n    def hello():\\n        x=500\\n        \\n        \\n        ', 'name()\\nprint(x)', 'x=10\\ndef name():\\n    global x\\n    x= 100\\n    def hello():\\n        x=500\\n    hello()\\n        \\n        \\n        ', 'name()\\nprint(x)', 'x=10\\ndef name():\\n    global x\\n    x= 100\\n    def hello():\\n        global x\\n        x=500\\n    hello()\\n        \\n        \\n        ', 'name()\\nprint(x)', 'x=10\\ndef name():\\n    global x\\n    x= 100\\n    def hello():\\n        x=500\\n    hello()\\n        \\n        \\n        ', 'name()\\nprint(x)', 'x=10\\ndef name():\\n    global x\\n    x= 100\\n    def hello():\\n        global x\\n        x=500\\n    hello()\\n        ', 'name()\\nprint(x)', 'print(x.locals())', 'print(locals())', 'print(globals())', 'print(globals())\\nprint(locals())'], 'Out': {1: 39.0, 2: 39.0, 3: 26.0, 7: 'C:\\\\Users\\\\SARIM\\\\Desktop\\\\Complete Python 3 Bootcamp\\\\5 Methods and Functions'}, 'get_ipython': <bound method InteractiveShell.get_ipython of <ipykernel.zmqshell.ZMQInteractiveShell object at 0x0000000004C37F28>>, 'exit': <IPython.core.autocall.ZMQExitAutocall object at 0x0000000004C934A8>, 'quit': <IPython.core.autocall.ZMQExitAutocall object at 0x0000000004C934A8>, '_': 'C:\\\\Users\\\\SARIM\\\\Desktop\\\\Complete Python 3 Bootcamp\\\\5 Methods and Functions', '__': 26.0, '___': 39.0, '_i': 'print(globals())', '_ii': 'print(locals())', '_iii': 'print(x.locals())', '_i1': '60*0.65', '_1': 39.0, '_i2': '60.0*0.65', '_2': 39.0, '_i3': '40*0.65', '_3': 26.0, '_i4': 'x=10\\ndef name():\\n    x= 100\\n    def hello():\\n        x=500', 'x': 500, 'name': <function name at 0x0000000004D7DD90>, '_i5': 'print(x)', '_i6': 'nmae()', '_i7': 'pwd', '_7': 'C:\\\\Users\\\\SARIM\\\\Desktop\\\\Complete Python 3 Bootcamp\\\\5 Methods and Functions', '_i8': 'name()', '_i9': 'name()\\nprint(x)', '_i10': 'x=10\\ndef name():\\n    global x\\n    x= 100\\n    def hello():\\n        x=500\\n        \\n        \\n        ', '_i11': 'name()\\nprint(x)', '_i12': 'x=10\\ndef name():\\n    global x\\n    x= 100\\n    def hello():\\n        x=500\\n    hello()\\n        \\n        \\n        ', '_i13': 'name()\\nprint(x)', '_i14': 'x=10\\ndef name():\\n    global x\\n    x= 100\\n    def hello():\\n        global x\\n        x=500\\n    hello()\\n        \\n        \\n        ', '_i15': 'name()\\nprint(x)', '_i16': 'x=10\\ndef name():\\n    global x\\n    x= 100\\n    def hello():\\n        x=500\\n    hello()\\n        \\n        \\n        ', '_i17': 'name()\\nprint(x)', '_i18': 'x=10\\ndef name():\\n    global x\\n    x= 100\\n    def hello():\\n        global x\\n        x=500\\n    hello()\\n        ', '_i19': 'name()\\nprint(x)', '_i20': 'print(x.locals())', '_i21': 'print(locals())', '_i22': 'print(globals())', '_i23': 'print(globals())\\nprint(locals())'}\n"
     ]
    }
   ],
   "source": [
    "print(globals())\n",
    "print(locals())"
   ]
  },
  {
   "cell_type": "code",
   "execution_count": null,
   "metadata": {},
   "outputs": [],
   "source": []
  }
 ],
 "metadata": {
  "kernelspec": {
   "display_name": "Python 3",
   "language": "python",
   "name": "python3"
  },
  "language_info": {
   "codemirror_mode": {
    "name": "ipython",
    "version": 3
   },
   "file_extension": ".py",
   "mimetype": "text/x-python",
   "name": "python",
   "nbconvert_exporter": "python",
   "pygments_lexer": "ipython3",
   "version": "3.7.1"
  }
 },
 "nbformat": 4,
 "nbformat_minor": 2
}
